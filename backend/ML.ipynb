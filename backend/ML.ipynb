{
 "cells": [
  {
   "cell_type": "code",
   "execution_count": 1,
   "metadata": {},
   "outputs": [],
   "source": [
    "import numpy as np"
   ]
  },
  {
   "cell_type": "code",
   "execution_count": 2,
   "metadata": {},
   "outputs": [],
   "source": [
    "import pandas as pd"
   ]
  },
  {
   "cell_type": "code",
   "execution_count": 3,
   "metadata": {},
   "outputs": [
    {
     "data": {
      "text/plain": [
       "(300, 17)"
      ]
     },
     "execution_count": 3,
     "metadata": {},
     "output_type": "execute_result"
    }
   ],
   "source": [
    "data = pd.read_excel('laptop_details.xlsx')\n",
    "data.shape"
   ]
  },
  {
   "cell_type": "code",
   "execution_count": 4,
   "metadata": {},
   "outputs": [],
   "source": [
    "data.drop('Company',axis=1,inplace=True)\n",
    "data.drop('ThirdPL',axis=1,inplace=True)\n",
    "data.drop('Abbreviation',axis=1,inplace=True)\n",
    "data.drop('Weight',axis=1,inplace=True)"
   ]
  },
  {
   "cell_type": "code",
   "execution_count": 5,
   "metadata": {},
   "outputs": [],
   "source": [
    "data['sales_location']=data['Sales_location']\n",
    "data.drop('Sales_location',axis=1,inplace=True)"
   ]
  },
  {
   "cell_type": "code",
   "execution_count": 6,
   "metadata": {},
   "outputs": [],
   "source": [
    "data.Price_euros=data.Price_euros.astype(float)"
   ]
  },
  {
   "cell_type": "code",
   "execution_count": 7,
   "metadata": {},
   "outputs": [
    {
     "data": {
      "text/html": [
       "<div>\n",
       "<style scoped>\n",
       "    .dataframe tbody tr th:only-of-type {\n",
       "        vertical-align: middle;\n",
       "    }\n",
       "\n",
       "    .dataframe tbody tr th {\n",
       "        vertical-align: top;\n",
       "    }\n",
       "\n",
       "    .dataframe thead th {\n",
       "        text-align: right;\n",
       "    }\n",
       "</style>\n",
       "<table border=\"1\" class=\"dataframe\">\n",
       "  <thead>\n",
       "    <tr style=\"text-align: right;\">\n",
       "      <th></th>\n",
       "      <th>Product</th>\n",
       "      <th>TypeName</th>\n",
       "      <th>Inches</th>\n",
       "      <th>ScreenResolution</th>\n",
       "      <th>Cpu</th>\n",
       "      <th>Ram</th>\n",
       "      <th>Memory</th>\n",
       "      <th>Gpu</th>\n",
       "      <th>OpSys</th>\n",
       "      <th>Price_euros</th>\n",
       "      <th>Stock_in_date</th>\n",
       "      <th>Status</th>\n",
       "      <th>sales_location</th>\n",
       "    </tr>\n",
       "  </thead>\n",
       "  <tbody>\n",
       "    <tr>\n",
       "      <th>0</th>\n",
       "      <td>Alienware 15</td>\n",
       "      <td>Gaming</td>\n",
       "      <td>15.6</td>\n",
       "      <td>Full HD 1920x1080</td>\n",
       "      <td>Intel Core i5 7300HQ 2.5GHz</td>\n",
       "      <td>16GB</td>\n",
       "      <td>128GB SSD +  1TB HDD</td>\n",
       "      <td>Nvidia GeForce GTX 1060</td>\n",
       "      <td>Windows 10</td>\n",
       "      <td>2051.00</td>\n",
       "      <td>2018-07-19</td>\n",
       "      <td>sold</td>\n",
       "      <td>New Delhi</td>\n",
       "    </tr>\n",
       "    <tr>\n",
       "      <th>1</th>\n",
       "      <td>Alienware 15</td>\n",
       "      <td>Gaming</td>\n",
       "      <td>15.6</td>\n",
       "      <td>Full HD 1920x1080</td>\n",
       "      <td>Intel Core i7 7820HK 2.9GHz</td>\n",
       "      <td>16GB</td>\n",
       "      <td>256GB SSD +  1TB HDD</td>\n",
       "      <td>Nvidia GeForce GTX 1070</td>\n",
       "      <td>Windows 10</td>\n",
       "      <td>2813.75</td>\n",
       "      <td>2018-09-10</td>\n",
       "      <td>sold</td>\n",
       "      <td>West Bengal</td>\n",
       "    </tr>\n",
       "    <tr>\n",
       "      <th>2</th>\n",
       "      <td>Alienware 15</td>\n",
       "      <td>Gaming</td>\n",
       "      <td>15.6</td>\n",
       "      <td>Full HD 1920x1080</td>\n",
       "      <td>Intel Core i7 7700HQ 2.8GHz</td>\n",
       "      <td>16GB</td>\n",
       "      <td>256GB SSD +  1TB HDD</td>\n",
       "      <td>Nvidia GeForce GTX 1070</td>\n",
       "      <td>Windows 10</td>\n",
       "      <td>2774.63</td>\n",
       "      <td>2018-10-01</td>\n",
       "      <td>not sold</td>\n",
       "      <td>Maharashtra</td>\n",
       "    </tr>\n",
       "    <tr>\n",
       "      <th>3</th>\n",
       "      <td>Alienware 15</td>\n",
       "      <td>Gaming</td>\n",
       "      <td>15.6</td>\n",
       "      <td>4K Ultra HD 3840x2160</td>\n",
       "      <td>Intel Core i7 6700HQ 2.6GHz</td>\n",
       "      <td>16GB</td>\n",
       "      <td>256GB SSD +  1TB HDD</td>\n",
       "      <td>Nvidia GeForce GTX 970M</td>\n",
       "      <td>Windows 10</td>\n",
       "      <td>1329.00</td>\n",
       "      <td>2018-08-12</td>\n",
       "      <td>sold</td>\n",
       "      <td>New Delhi</td>\n",
       "    </tr>\n",
       "    <tr>\n",
       "      <th>4</th>\n",
       "      <td>Alienware 17</td>\n",
       "      <td>Gaming</td>\n",
       "      <td>17.3</td>\n",
       "      <td>IPS Panel Full HD 1920x1080</td>\n",
       "      <td>Intel Core i7 7700HQ 2.8GHz</td>\n",
       "      <td>16GB</td>\n",
       "      <td>256GB SSD +  1TB HDD</td>\n",
       "      <td>Nvidia GeForce GTX 1060</td>\n",
       "      <td>Windows 10</td>\n",
       "      <td>2456.34</td>\n",
       "      <td>2018-08-24</td>\n",
       "      <td>sold</td>\n",
       "      <td>Odisha</td>\n",
       "    </tr>\n",
       "  </tbody>\n",
       "</table>\n",
       "</div>"
      ],
      "text/plain": [
       "        Product TypeName  Inches             ScreenResolution  \\\n",
       "0  Alienware 15   Gaming    15.6            Full HD 1920x1080   \n",
       "1  Alienware 15   Gaming    15.6            Full HD 1920x1080   \n",
       "2  Alienware 15   Gaming    15.6            Full HD 1920x1080   \n",
       "3  Alienware 15   Gaming    15.6        4K Ultra HD 3840x2160   \n",
       "4  Alienware 17   Gaming    17.3  IPS Panel Full HD 1920x1080   \n",
       "\n",
       "                           Cpu   Ram                Memory  \\\n",
       "0  Intel Core i5 7300HQ 2.5GHz  16GB  128GB SSD +  1TB HDD   \n",
       "1  Intel Core i7 7820HK 2.9GHz  16GB  256GB SSD +  1TB HDD   \n",
       "2  Intel Core i7 7700HQ 2.8GHz  16GB  256GB SSD +  1TB HDD   \n",
       "3  Intel Core i7 6700HQ 2.6GHz  16GB  256GB SSD +  1TB HDD   \n",
       "4  Intel Core i7 7700HQ 2.8GHz  16GB  256GB SSD +  1TB HDD   \n",
       "\n",
       "                       Gpu       OpSys  Price_euros Stock_in_date    Status  \\\n",
       "0  Nvidia GeForce GTX 1060  Windows 10      2051.00    2018-07-19      sold   \n",
       "1  Nvidia GeForce GTX 1070  Windows 10      2813.75    2018-09-10      sold   \n",
       "2  Nvidia GeForce GTX 1070  Windows 10      2774.63    2018-10-01  not sold   \n",
       "3  Nvidia GeForce GTX 970M  Windows 10      1329.00    2018-08-12      sold   \n",
       "4  Nvidia GeForce GTX 1060  Windows 10      2456.34    2018-08-24      sold   \n",
       "\n",
       "  sales_location  \n",
       "0      New Delhi  \n",
       "1    West Bengal  \n",
       "2    Maharashtra  \n",
       "3      New Delhi  \n",
       "4         Odisha  "
      ]
     },
     "execution_count": 7,
     "metadata": {},
     "output_type": "execute_result"
    }
   ],
   "source": [
    "data.head()"
   ]
  },
  {
   "cell_type": "code",
   "execution_count": 8,
   "metadata": {},
   "outputs": [],
   "source": [
    "train_data=data[data.Status==\"sold\"]\n",
    "test_data=data[data.Status==\"not sold\"]"
   ]
  },
  {
   "cell_type": "code",
   "execution_count": 9,
   "metadata": {},
   "outputs": [],
   "source": [
    "stock_in_date=test_data.Stock_in_date"
   ]
  },
  {
   "cell_type": "code",
   "execution_count": 10,
   "metadata": {},
   "outputs": [],
   "source": [
    "product=test_data.Product"
   ]
  },
  {
   "cell_type": "code",
   "execution_count": 11,
   "metadata": {},
   "outputs": [
    {
     "data": {
      "text/plain": [
       "(188, 13)"
      ]
     },
     "execution_count": 11,
     "metadata": {},
     "output_type": "execute_result"
    }
   ],
   "source": [
    "train_data.shape"
   ]
  },
  {
   "cell_type": "code",
   "execution_count": 12,
   "metadata": {},
   "outputs": [
    {
     "data": {
      "text/plain": [
       "(112, 13)"
      ]
     },
     "execution_count": 12,
     "metadata": {},
     "output_type": "execute_result"
    }
   ],
   "source": [
    "test_data.shape"
   ]
  },
  {
   "cell_type": "code",
   "execution_count": 13,
   "metadata": {},
   "outputs": [],
   "source": [
    "from sklearn.preprocessing import LabelEncoder"
   ]
  },
  {
   "cell_type": "code",
   "execution_count": 14,
   "metadata": {},
   "outputs": [
    {
     "name": "stderr",
     "output_type": "stream",
     "text": [
      "C:\\ProgramData\\Anaconda3\\lib\\site-packages\\pandas\\core\\indexing.py:543: SettingWithCopyWarning: \n",
      "A value is trying to be set on a copy of a slice from a DataFrame.\n",
      "Try using .loc[row_indexer,col_indexer] = value instead\n",
      "\n",
      "See the caveats in the documentation: http://pandas.pydata.org/pandas-docs/stable/indexing.html#indexing-view-versus-copy\n",
      "  self.obj[item] = s\n"
     ]
    }
   ],
   "source": [
    "le=LabelEncoder()\n",
    "for i in([0,1,2,3,4,5,6,7,8]):\n",
    "    array=le.fit_transform(np.array(train_data.iloc[:,i]))\n",
    "    train_data.iloc[:,i]=array"
   ]
  },
  {
   "cell_type": "code",
   "execution_count": 15,
   "metadata": {},
   "outputs": [
    {
     "name": "stderr",
     "output_type": "stream",
     "text": [
      "C:\\ProgramData\\Anaconda3\\lib\\site-packages\\pandas\\core\\indexing.py:543: SettingWithCopyWarning: \n",
      "A value is trying to be set on a copy of a slice from a DataFrame.\n",
      "Try using .loc[row_indexer,col_indexer] = value instead\n",
      "\n",
      "See the caveats in the documentation: http://pandas.pydata.org/pandas-docs/stable/indexing.html#indexing-view-versus-copy\n",
      "  self.obj[item] = s\n"
     ]
    }
   ],
   "source": [
    "for i in([0,1,2,3,4,5,6,7,8]):\n",
    "    array=le.fit_transform(np.array(test_data.iloc[:,i]))\n",
    "    test_data.iloc[:,i]=array"
   ]
  },
  {
   "cell_type": "code",
   "execution_count": 16,
   "metadata": {},
   "outputs": [
    {
     "data": {
      "text/html": [
       "<div>\n",
       "<style scoped>\n",
       "    .dataframe tbody tr th:only-of-type {\n",
       "        vertical-align: middle;\n",
       "    }\n",
       "\n",
       "    .dataframe tbody tr th {\n",
       "        vertical-align: top;\n",
       "    }\n",
       "\n",
       "    .dataframe thead th {\n",
       "        text-align: right;\n",
       "    }\n",
       "</style>\n",
       "<table border=\"1\" class=\"dataframe\">\n",
       "  <thead>\n",
       "    <tr style=\"text-align: right;\">\n",
       "      <th></th>\n",
       "      <th>Product</th>\n",
       "      <th>TypeName</th>\n",
       "      <th>Inches</th>\n",
       "      <th>ScreenResolution</th>\n",
       "      <th>Cpu</th>\n",
       "      <th>Ram</th>\n",
       "      <th>Memory</th>\n",
       "      <th>Gpu</th>\n",
       "      <th>OpSys</th>\n",
       "      <th>Price_euros</th>\n",
       "      <th>Stock_in_date</th>\n",
       "      <th>Status</th>\n",
       "      <th>sales_location</th>\n",
       "    </tr>\n",
       "  </thead>\n",
       "  <tbody>\n",
       "    <tr>\n",
       "      <th>2</th>\n",
       "      <td>0</td>\n",
       "      <td>1</td>\n",
       "      <td>5</td>\n",
       "      <td>6</td>\n",
       "      <td>19</td>\n",
       "      <td>0</td>\n",
       "      <td>6</td>\n",
       "      <td>21</td>\n",
       "      <td>1</td>\n",
       "      <td>2774.63</td>\n",
       "      <td>2018-10-01</td>\n",
       "      <td>not sold</td>\n",
       "      <td>Maharashtra</td>\n",
       "    </tr>\n",
       "    <tr>\n",
       "      <th>7</th>\n",
       "      <td>1</td>\n",
       "      <td>1</td>\n",
       "      <td>6</td>\n",
       "      <td>10</td>\n",
       "      <td>19</td>\n",
       "      <td>0</td>\n",
       "      <td>1</td>\n",
       "      <td>21</td>\n",
       "      <td>1</td>\n",
       "      <td>3012.77</td>\n",
       "      <td>2018-10-15</td>\n",
       "      <td>not sold</td>\n",
       "      <td>Gujarat</td>\n",
       "    </tr>\n",
       "    <tr>\n",
       "      <th>15</th>\n",
       "      <td>1</td>\n",
       "      <td>1</td>\n",
       "      <td>6</td>\n",
       "      <td>2</td>\n",
       "      <td>15</td>\n",
       "      <td>0</td>\n",
       "      <td>10</td>\n",
       "      <td>22</td>\n",
       "      <td>1</td>\n",
       "      <td>2758.00</td>\n",
       "      <td>2018-07-11</td>\n",
       "      <td>not sold</td>\n",
       "      <td>Maharashtra</td>\n",
       "    </tr>\n",
       "    <tr>\n",
       "      <th>18</th>\n",
       "      <td>1</td>\n",
       "      <td>1</td>\n",
       "      <td>6</td>\n",
       "      <td>6</td>\n",
       "      <td>14</td>\n",
       "      <td>2</td>\n",
       "      <td>6</td>\n",
       "      <td>21</td>\n",
       "      <td>1</td>\n",
       "      <td>2800.00</td>\n",
       "      <td>2018-10-01</td>\n",
       "      <td>not sold</td>\n",
       "      <td>Gujarat</td>\n",
       "    </tr>\n",
       "    <tr>\n",
       "      <th>22</th>\n",
       "      <td>2</td>\n",
       "      <td>0</td>\n",
       "      <td>0</td>\n",
       "      <td>13</td>\n",
       "      <td>25</td>\n",
       "      <td>3</td>\n",
       "      <td>8</td>\n",
       "      <td>7</td>\n",
       "      <td>1</td>\n",
       "      <td>479.00</td>\n",
       "      <td>2018-10-12</td>\n",
       "      <td>not sold</td>\n",
       "      <td>Rajasthan</td>\n",
       "    </tr>\n",
       "  </tbody>\n",
       "</table>\n",
       "</div>"
      ],
      "text/plain": [
       "    Product  TypeName  Inches  ScreenResolution  Cpu  Ram  Memory  Gpu  OpSys  \\\n",
       "2         0         1       5                 6   19    0       6   21      1   \n",
       "7         1         1       6                10   19    0       1   21      1   \n",
       "15        1         1       6                 2   15    0      10   22      1   \n",
       "18        1         1       6                 6   14    2       6   21      1   \n",
       "22        2         0       0                13   25    3       8    7      1   \n",
       "\n",
       "    Price_euros Stock_in_date    Status sales_location  \n",
       "2       2774.63    2018-10-01  not sold    Maharashtra  \n",
       "7       3012.77    2018-10-15  not sold        Gujarat  \n",
       "15      2758.00    2018-07-11  not sold    Maharashtra  \n",
       "18      2800.00    2018-10-01  not sold        Gujarat  \n",
       "22       479.00    2018-10-12  not sold      Rajasthan  "
      ]
     },
     "execution_count": 16,
     "metadata": {},
     "output_type": "execute_result"
    }
   ],
   "source": [
    "test_data.head()"
   ]
  },
  {
   "cell_type": "code",
   "execution_count": 17,
   "metadata": {},
   "outputs": [
    {
     "data": {
      "text/html": [
       "<div>\n",
       "<style scoped>\n",
       "    .dataframe tbody tr th:only-of-type {\n",
       "        vertical-align: middle;\n",
       "    }\n",
       "\n",
       "    .dataframe tbody tr th {\n",
       "        vertical-align: top;\n",
       "    }\n",
       "\n",
       "    .dataframe thead th {\n",
       "        text-align: right;\n",
       "    }\n",
       "</style>\n",
       "<table border=\"1\" class=\"dataframe\">\n",
       "  <thead>\n",
       "    <tr style=\"text-align: right;\">\n",
       "      <th></th>\n",
       "      <th>Product</th>\n",
       "      <th>TypeName</th>\n",
       "      <th>Inches</th>\n",
       "      <th>ScreenResolution</th>\n",
       "      <th>Cpu</th>\n",
       "      <th>Ram</th>\n",
       "      <th>Memory</th>\n",
       "      <th>Gpu</th>\n",
       "      <th>OpSys</th>\n",
       "      <th>Price_euros</th>\n",
       "      <th>Stock_in_date</th>\n",
       "      <th>Status</th>\n",
       "      <th>sales_location</th>\n",
       "    </tr>\n",
       "  </thead>\n",
       "  <tbody>\n",
       "    <tr>\n",
       "      <th>0</th>\n",
       "      <td>0</td>\n",
       "      <td>2</td>\n",
       "      <td>4</td>\n",
       "      <td>5</td>\n",
       "      <td>15</td>\n",
       "      <td>1</td>\n",
       "      <td>2</td>\n",
       "      <td>27</td>\n",
       "      <td>2</td>\n",
       "      <td>2051.00</td>\n",
       "      <td>2018-07-19</td>\n",
       "      <td>sold</td>\n",
       "      <td>New Delhi</td>\n",
       "    </tr>\n",
       "    <tr>\n",
       "      <th>1</th>\n",
       "      <td>0</td>\n",
       "      <td>2</td>\n",
       "      <td>4</td>\n",
       "      <td>5</td>\n",
       "      <td>30</td>\n",
       "      <td>1</td>\n",
       "      <td>9</td>\n",
       "      <td>28</td>\n",
       "      <td>2</td>\n",
       "      <td>2813.75</td>\n",
       "      <td>2018-09-10</td>\n",
       "      <td>sold</td>\n",
       "      <td>West Bengal</td>\n",
       "    </tr>\n",
       "    <tr>\n",
       "      <th>3</th>\n",
       "      <td>0</td>\n",
       "      <td>2</td>\n",
       "      <td>4</td>\n",
       "      <td>3</td>\n",
       "      <td>22</td>\n",
       "      <td>1</td>\n",
       "      <td>9</td>\n",
       "      <td>31</td>\n",
       "      <td>2</td>\n",
       "      <td>1329.00</td>\n",
       "      <td>2018-08-12</td>\n",
       "      <td>sold</td>\n",
       "      <td>New Delhi</td>\n",
       "    </tr>\n",
       "    <tr>\n",
       "      <th>4</th>\n",
       "      <td>1</td>\n",
       "      <td>2</td>\n",
       "      <td>5</td>\n",
       "      <td>9</td>\n",
       "      <td>29</td>\n",
       "      <td>1</td>\n",
       "      <td>9</td>\n",
       "      <td>27</td>\n",
       "      <td>2</td>\n",
       "      <td>2456.34</td>\n",
       "      <td>2018-08-24</td>\n",
       "      <td>sold</td>\n",
       "      <td>Odisha</td>\n",
       "    </tr>\n",
       "    <tr>\n",
       "      <th>5</th>\n",
       "      <td>1</td>\n",
       "      <td>2</td>\n",
       "      <td>5</td>\n",
       "      <td>6</td>\n",
       "      <td>30</td>\n",
       "      <td>1</td>\n",
       "      <td>9</td>\n",
       "      <td>28</td>\n",
       "      <td>2</td>\n",
       "      <td>2799.00</td>\n",
       "      <td>2018-10-15</td>\n",
       "      <td>sold</td>\n",
       "      <td>Tamil Nadu</td>\n",
       "    </tr>\n",
       "  </tbody>\n",
       "</table>\n",
       "</div>"
      ],
      "text/plain": [
       "   Product  TypeName  Inches  ScreenResolution  Cpu  Ram  Memory  Gpu  OpSys  \\\n",
       "0        0         2       4                 5   15    1       2   27      2   \n",
       "1        0         2       4                 5   30    1       9   28      2   \n",
       "3        0         2       4                 3   22    1       9   31      2   \n",
       "4        1         2       5                 9   29    1       9   27      2   \n",
       "5        1         2       5                 6   30    1       9   28      2   \n",
       "\n",
       "   Price_euros Stock_in_date Status sales_location  \n",
       "0      2051.00    2018-07-19   sold      New Delhi  \n",
       "1      2813.75    2018-09-10   sold    West Bengal  \n",
       "3      1329.00    2018-08-12   sold      New Delhi  \n",
       "4      2456.34    2018-08-24   sold         Odisha  \n",
       "5      2799.00    2018-10-15   sold     Tamil Nadu  "
      ]
     },
     "execution_count": 17,
     "metadata": {},
     "output_type": "execute_result"
    }
   ],
   "source": [
    "train_data.head()"
   ]
  },
  {
   "cell_type": "code",
   "execution_count": 18,
   "metadata": {},
   "outputs": [
    {
     "name": "stderr",
     "output_type": "stream",
     "text": [
      "C:\\ProgramData\\Anaconda3\\lib\\site-packages\\pandas\\core\\indexing.py:543: SettingWithCopyWarning: \n",
      "A value is trying to be set on a copy of a slice from a DataFrame.\n",
      "Try using .loc[row_indexer,col_indexer] = value instead\n",
      "\n",
      "See the caveats in the documentation: http://pandas.pydata.org/pandas-docs/stable/indexing.html#indexing-view-versus-copy\n",
      "  self.obj[item] = s\n"
     ]
    }
   ],
   "source": [
    "train_data.iloc[:,11] = train_data.iloc[:,11].map({'sold': 1, 'not sold': 0})\n",
    "test_data.iloc[:,11] = test_data.iloc[:,11].map({'sold': 1, 'not sold': 0})"
   ]
  },
  {
   "cell_type": "code",
   "execution_count": 19,
   "metadata": {},
   "outputs": [
    {
     "data": {
      "text/html": [
       "<div>\n",
       "<style scoped>\n",
       "    .dataframe tbody tr th:only-of-type {\n",
       "        vertical-align: middle;\n",
       "    }\n",
       "\n",
       "    .dataframe tbody tr th {\n",
       "        vertical-align: top;\n",
       "    }\n",
       "\n",
       "    .dataframe thead th {\n",
       "        text-align: right;\n",
       "    }\n",
       "</style>\n",
       "<table border=\"1\" class=\"dataframe\">\n",
       "  <thead>\n",
       "    <tr style=\"text-align: right;\">\n",
       "      <th></th>\n",
       "      <th>Product</th>\n",
       "      <th>TypeName</th>\n",
       "      <th>Inches</th>\n",
       "      <th>ScreenResolution</th>\n",
       "      <th>Cpu</th>\n",
       "      <th>Ram</th>\n",
       "      <th>Memory</th>\n",
       "      <th>Gpu</th>\n",
       "      <th>OpSys</th>\n",
       "      <th>Price_euros</th>\n",
       "      <th>Stock_in_date</th>\n",
       "      <th>Status</th>\n",
       "      <th>sales_location</th>\n",
       "    </tr>\n",
       "  </thead>\n",
       "  <tbody>\n",
       "    <tr>\n",
       "      <th>0</th>\n",
       "      <td>0</td>\n",
       "      <td>2</td>\n",
       "      <td>4</td>\n",
       "      <td>5</td>\n",
       "      <td>15</td>\n",
       "      <td>1</td>\n",
       "      <td>2</td>\n",
       "      <td>27</td>\n",
       "      <td>2</td>\n",
       "      <td>2051.00</td>\n",
       "      <td>2018-07-19</td>\n",
       "      <td>1</td>\n",
       "      <td>New Delhi</td>\n",
       "    </tr>\n",
       "    <tr>\n",
       "      <th>1</th>\n",
       "      <td>0</td>\n",
       "      <td>2</td>\n",
       "      <td>4</td>\n",
       "      <td>5</td>\n",
       "      <td>30</td>\n",
       "      <td>1</td>\n",
       "      <td>9</td>\n",
       "      <td>28</td>\n",
       "      <td>2</td>\n",
       "      <td>2813.75</td>\n",
       "      <td>2018-09-10</td>\n",
       "      <td>1</td>\n",
       "      <td>West Bengal</td>\n",
       "    </tr>\n",
       "    <tr>\n",
       "      <th>3</th>\n",
       "      <td>0</td>\n",
       "      <td>2</td>\n",
       "      <td>4</td>\n",
       "      <td>3</td>\n",
       "      <td>22</td>\n",
       "      <td>1</td>\n",
       "      <td>9</td>\n",
       "      <td>31</td>\n",
       "      <td>2</td>\n",
       "      <td>1329.00</td>\n",
       "      <td>2018-08-12</td>\n",
       "      <td>1</td>\n",
       "      <td>New Delhi</td>\n",
       "    </tr>\n",
       "    <tr>\n",
       "      <th>4</th>\n",
       "      <td>1</td>\n",
       "      <td>2</td>\n",
       "      <td>5</td>\n",
       "      <td>9</td>\n",
       "      <td>29</td>\n",
       "      <td>1</td>\n",
       "      <td>9</td>\n",
       "      <td>27</td>\n",
       "      <td>2</td>\n",
       "      <td>2456.34</td>\n",
       "      <td>2018-08-24</td>\n",
       "      <td>1</td>\n",
       "      <td>Odisha</td>\n",
       "    </tr>\n",
       "    <tr>\n",
       "      <th>5</th>\n",
       "      <td>1</td>\n",
       "      <td>2</td>\n",
       "      <td>5</td>\n",
       "      <td>6</td>\n",
       "      <td>30</td>\n",
       "      <td>1</td>\n",
       "      <td>9</td>\n",
       "      <td>28</td>\n",
       "      <td>2</td>\n",
       "      <td>2799.00</td>\n",
       "      <td>2018-10-15</td>\n",
       "      <td>1</td>\n",
       "      <td>Tamil Nadu</td>\n",
       "    </tr>\n",
       "  </tbody>\n",
       "</table>\n",
       "</div>"
      ],
      "text/plain": [
       "   Product  TypeName  Inches  ScreenResolution  Cpu  Ram  Memory  Gpu  OpSys  \\\n",
       "0        0         2       4                 5   15    1       2   27      2   \n",
       "1        0         2       4                 5   30    1       9   28      2   \n",
       "3        0         2       4                 3   22    1       9   31      2   \n",
       "4        1         2       5                 9   29    1       9   27      2   \n",
       "5        1         2       5                 6   30    1       9   28      2   \n",
       "\n",
       "   Price_euros Stock_in_date  Status sales_location  \n",
       "0      2051.00    2018-07-19       1      New Delhi  \n",
       "1      2813.75    2018-09-10       1    West Bengal  \n",
       "3      1329.00    2018-08-12       1      New Delhi  \n",
       "4      2456.34    2018-08-24       1         Odisha  \n",
       "5      2799.00    2018-10-15       1     Tamil Nadu  "
      ]
     },
     "execution_count": 19,
     "metadata": {},
     "output_type": "execute_result"
    }
   ],
   "source": [
    "train_data.head()"
   ]
  },
  {
   "cell_type": "code",
   "execution_count": 20,
   "metadata": {},
   "outputs": [],
   "source": [
    "X_train=train_data.iloc[:,:-1]\n",
    "Y_train=train_data.iloc[:,-1]\n",
    "X_test=test_data.iloc[:,:-1]\n",
    "Y_test=test_data.iloc[:,-1]"
   ]
  },
  {
   "cell_type": "code",
   "execution_count": 21,
   "metadata": {},
   "outputs": [],
   "source": [
    "array=le.fit_transform(np.array(Y_train))\n",
    "Y_train=array\n",
    "array=le.fit_transform(np.array(Y_test))\n",
    "Y_test=array"
   ]
  },
  {
   "cell_type": "code",
   "execution_count": 22,
   "metadata": {},
   "outputs": [
    {
     "data": {
      "text/plain": [
       "array([ 5,  1,  5,  1,  9,  1,  3,  6,  6, 10,  4, 10,  5, 10,  4,  2,  0,\n",
       "        0,  9,  0,  0,  4,  8, 12, 12,  5,  4,  8,  7, 11, 12,  5,  1,  0,\n",
       "       12, 10, 12,  7,  4,  5,  0, 11,  5,  8,  5,  4, 11,  8, 11,  0, 10,\n",
       "        5,  7,  1, 11,  5,  7,  9, 12,  0, 11,  7,  1,  4,  2,  1, 10,  7,\n",
       "        1,  9, 11,  1,  5,  5,  5, 10, 10, 12,  1,  4, 10, 11, 10,  5,  9,\n",
       "        5,  0,  9,  4,  9, 12, 12,  2, 12,  1,  1,  0,  4,  1,  9,  5,  9,\n",
       "        2,  8,  4,  0,  2,  4,  9,  5, 12,  5], dtype=int64)"
      ]
     },
     "execution_count": 22,
     "metadata": {},
     "output_type": "execute_result"
    }
   ],
   "source": [
    "Y_test"
   ]
  },
  {
   "cell_type": "code",
   "execution_count": 23,
   "metadata": {},
   "outputs": [
    {
     "data": {
      "text/plain": [
       "(188, 12)"
      ]
     },
     "execution_count": 23,
     "metadata": {},
     "output_type": "execute_result"
    }
   ],
   "source": [
    "X_train.shape"
   ]
  },
  {
   "cell_type": "code",
   "execution_count": 24,
   "metadata": {},
   "outputs": [
    {
     "data": {
      "text/plain": [
       "(112, 12)"
      ]
     },
     "execution_count": 24,
     "metadata": {},
     "output_type": "execute_result"
    }
   ],
   "source": [
    "X_test.shape"
   ]
  },
  {
   "cell_type": "code",
   "execution_count": 25,
   "metadata": {},
   "outputs": [
    {
     "data": {
      "text/plain": [
       "2     2018-10-01\n",
       "7     2018-10-15\n",
       "15    2018-07-11\n",
       "18    2018-10-01\n",
       "22    2018-10-12\n",
       "23    2018-09-10\n",
       "28    2018-10-27\n",
       "29    2018-09-22\n",
       "31    2018-09-11\n",
       "33    2018-08-27\n",
       "38    2018-07-24\n",
       "39    2018-08-07\n",
       "41    2018-09-06\n",
       "46    2018-08-23\n",
       "47    2018-09-10\n",
       "50    2018-09-02\n",
       "53    2018-09-25\n",
       "57    2018-10-05\n",
       "59    2018-08-15\n",
       "63    2018-10-10\n",
       "66    2018-10-11\n",
       "72    2018-05-26\n",
       "73    2018-06-15\n",
       "76    2018-09-04\n",
       "80    2018-09-18\n",
       "84    2018-08-24\n",
       "87    2018-11-09\n",
       "88    2018-10-22\n",
       "92    2018-10-26\n",
       "94    2018-07-10\n",
       "         ...    \n",
       "226   2018-10-28\n",
       "228   2018-09-20\n",
       "231   2018-08-19\n",
       "233   2018-07-24\n",
       "234   2018-07-18\n",
       "243   2018-10-11\n",
       "244   2018-09-21\n",
       "246   2018-06-18\n",
       "250   2018-09-04\n",
       "256   2018-10-16\n",
       "257   2018-10-07\n",
       "260   2018-06-18\n",
       "263   2018-06-28\n",
       "264   2018-10-10\n",
       "266   2018-07-27\n",
       "267   2018-06-16\n",
       "268   2018-08-16\n",
       "270   2018-09-20\n",
       "272   2018-11-06\n",
       "274   2018-09-01\n",
       "277   2018-08-21\n",
       "281   2018-10-14\n",
       "283   2018-07-01\n",
       "284   2018-10-29\n",
       "286   2018-08-11\n",
       "289   2018-06-10\n",
       "291   2018-07-28\n",
       "294   2018-05-23\n",
       "297   2018-10-05\n",
       "299   2018-09-17\n",
       "Name: Stock_in_date, Length: 112, dtype: datetime64[ns]"
      ]
     },
     "execution_count": 25,
     "metadata": {},
     "output_type": "execute_result"
    }
   ],
   "source": [
    "stock_in_date = X_test['Stock_in_date']\n",
    "X_train.drop('Stock_in_date',axis=1,inplace=True)\n",
    "X_test.drop('Stock_in_date',axis=1,inplace=True)\n",
    "stock_in_date"
   ]
  },
  {
   "cell_type": "code",
   "execution_count": 26,
   "metadata": {},
   "outputs": [
    {
     "data": {
      "text/plain": [
       "(188, 11)"
      ]
     },
     "execution_count": 26,
     "metadata": {},
     "output_type": "execute_result"
    }
   ],
   "source": [
    "X_train.shape"
   ]
  },
  {
   "cell_type": "code",
   "execution_count": 27,
   "metadata": {},
   "outputs": [
    {
     "data": {
      "text/plain": [
       "(112, 11)"
      ]
     },
     "execution_count": 27,
     "metadata": {},
     "output_type": "execute_result"
    }
   ],
   "source": [
    "X_test.shape"
   ]
  },
  {
   "cell_type": "code",
   "execution_count": 28,
   "metadata": {},
   "outputs": [],
   "source": [
    "from sklearn.preprocessing import StandardScaler\n",
    "sc_X=StandardScaler()\n",
    "X_train=sc_X.fit_transform(X_train)\n",
    "X_test=sc_X.transform(X_test)"
   ]
  },
  {
   "cell_type": "code",
   "execution_count": 29,
   "metadata": {},
   "outputs": [
    {
     "data": {
      "text/plain": [
       "array([[-1.3522906 , -0.99689442,  0.36372915, ...,  0.24856253,\n",
       "         1.14140802,  0.        ],\n",
       "       [-1.3522906 , -0.99689442,  0.36372915, ...,  0.24856253,\n",
       "         2.21052297,  0.        ],\n",
       "       [-1.3522906 , -0.99689442,  0.36372915, ...,  0.24856253,\n",
       "         0.12941065,  0.        ],\n",
       "       ...,\n",
       "       [ 1.5753087 ,  0.30914148,  0.36372915, ...,  0.24856253,\n",
       "         0.81762492,  0.        ],\n",
       "       [ 1.5753087 ,  0.30914148,  0.36372915, ...,  0.24856253,\n",
       "         1.62918514,  0.        ],\n",
       "       [ 1.5753087 ,  0.30914148,  0.36372915, ...,  0.24856253,\n",
       "         1.42129117,  0.        ]])"
      ]
     },
     "execution_count": 29,
     "metadata": {},
     "output_type": "execute_result"
    }
   ],
   "source": [
    "X_train"
   ]
  },
  {
   "cell_type": "code",
   "execution_count": 30,
   "metadata": {},
   "outputs": [
    {
     "data": {
      "text/plain": [
       "array([[-1.3522906 , -1.64991237,  1.31346639, ..., -2.21089828,\n",
       "         2.15569009, -1.        ],\n",
       "       [-1.30001204, -1.64991237,  2.26320363, ..., -2.21089828,\n",
       "         2.48948102, -1.        ],\n",
       "       [-1.30001204, -1.64991237,  2.26320363, ..., -2.21089828,\n",
       "         2.13238051, -1.        ],\n",
       "       ...,\n",
       "       [ 0.73885176, -0.99689442,  1.31346639, ..., -2.21089828,\n",
       "         0.92835594, -1.        ],\n",
       "       [ 0.73885176, -0.99689442,  1.31346639, ..., -2.21089828,\n",
       "         0.71810718, -1.        ],\n",
       "       [ 0.79113032, -0.34387647,  1.31346639, ..., -2.21089828,\n",
       "         0.69043844, -1.        ]])"
      ]
     },
     "execution_count": 30,
     "metadata": {},
     "output_type": "execute_result"
    }
   ],
   "source": [
    "X_test"
   ]
  },
  {
   "cell_type": "code",
   "execution_count": 31,
   "metadata": {},
   "outputs": [],
   "source": [
    "from sklearn.ensemble import RandomForestClassifier\n",
    "from sklearn.metrics import accuracy_score, classification_report\n",
    "clf1=RandomForestClassifier()\n",
    "clf1.fit(X_train,Y_train)\n",
    "Y_pred=clf1.predict(X_test)"
   ]
  },
  {
   "cell_type": "code",
   "execution_count": 32,
   "metadata": {},
   "outputs": [
    {
     "data": {
      "text/plain": [
       "0.08928571428571429"
      ]
     },
     "execution_count": 32,
     "metadata": {},
     "output_type": "execute_result"
    }
   ],
   "source": [
    "clf1.score(X_test,Y_test)"
   ]
  },
  {
   "cell_type": "code",
   "execution_count": 33,
   "metadata": {},
   "outputs": [
    {
     "data": {
      "text/plain": [
       "(112, 11)"
      ]
     },
     "execution_count": 33,
     "metadata": {},
     "output_type": "execute_result"
    }
   ],
   "source": [
    "X_test.shape"
   ]
  },
  {
   "cell_type": "code",
   "execution_count": 34,
   "metadata": {},
   "outputs": [
    {
     "data": {
      "text/plain": [
       "0.017857142857142856"
      ]
     },
     "execution_count": 34,
     "metadata": {},
     "output_type": "execute_result"
    }
   ],
   "source": [
    "from sklearn.svm import SVC\n",
    "clf2=SVC()\n",
    "clf2.fit(X_train, Y_train)\n",
    "Y_pred=clf1.predict(X_test)\n",
    "clf2.score(X_test,Y_test)"
   ]
  },
  {
   "cell_type": "code",
   "execution_count": 35,
   "metadata": {},
   "outputs": [
    {
     "data": {
      "text/plain": [
       "0.05357142857142857"
      ]
     },
     "execution_count": 35,
     "metadata": {},
     "output_type": "execute_result"
    }
   ],
   "source": [
    "from sklearn.neighbors import KNeighborsClassifier  \n",
    "clf3=KNeighborsClassifier(n_neighbors=5)  \n",
    "clf3.fit(X_train,Y_train)\n",
    "Y_pred=clf3.predict(X_test)\n",
    "clf3.score(X_test,Y_test)"
   ]
  },
  {
   "cell_type": "code",
   "execution_count": 36,
   "metadata": {},
   "outputs": [
    {
     "name": "stderr",
     "output_type": "stream",
     "text": [
      "C:\\ProgramData\\Anaconda3\\lib\\site-packages\\ipykernel_launcher.py:1: DeprecationWarning: This function is deprecated. Please call randint(5, 15 + 1) instead\n",
      "  \"\"\"Entry point for launching an IPython kernel.\n"
     ]
    },
    {
     "data": {
      "text/plain": [
       "array([12, 11, 14, 14, 11, 11,  5, 15, 14,  5,  8,  5, 11,  8,  5,  9, 10,\n",
       "        9,  6,  7,  7,  7,  8, 11, 13, 13, 14,  9,  7,  5, 12,  7,  9, 15,\n",
       "       14, 14, 10,  7,  7,  6,  5, 14, 12,  8,  8, 12, 14,  7,  6, 12, 11,\n",
       "       11,  9,  8,  5,  5, 11,  9, 11, 12, 11,  6,  7, 14,  5, 12, 15,  9,\n",
       "        9, 12, 12, 12, 11,  6,  5, 15,  5,  7, 14,  6, 15, 13,  9, 14, 11,\n",
       "        9, 10, 13, 10,  5,  7, 11, 10,  9,  7,  5,  5, 12, 15, 15, 12,  6,\n",
       "       10, 15, 10, 15, 15,  6, 11, 14, 12, 14])"
      ]
     },
     "execution_count": 36,
     "metadata": {},
     "output_type": "execute_result"
    }
   ],
   "source": [
    "quantity=np.random.random_integers(5,high=15,size=(X_test.shape[0],))\n",
    "quantity"
   ]
  },
  {
   "cell_type": "code",
   "execution_count": 37,
   "metadata": {},
   "outputs": [
    {
     "name": "stderr",
     "output_type": "stream",
     "text": [
      "C:\\ProgramData\\Anaconda3\\lib\\site-packages\\sklearn\\preprocessing\\label.py:151: DeprecationWarning: The truth value of an empty array is ambiguous. Returning False, but in future this will result in an error. Use `array.size > 0` to check that an array is not empty.\n",
      "  if diff:\n"
     ]
    },
    {
     "data": {
      "text/html": [
       "<div>\n",
       "<style scoped>\n",
       "    .dataframe tbody tr th:only-of-type {\n",
       "        vertical-align: middle;\n",
       "    }\n",
       "\n",
       "    .dataframe tbody tr th {\n",
       "        vertical-align: top;\n",
       "    }\n",
       "\n",
       "    .dataframe thead th {\n",
       "        text-align: right;\n",
       "    }\n",
       "</style>\n",
       "<table border=\"1\" class=\"dataframe\">\n",
       "  <thead>\n",
       "    <tr style=\"text-align: right;\">\n",
       "      <th></th>\n",
       "      <th>Product</th>\n",
       "      <th>Quantity</th>\n",
       "      <th>Stock_in_date</th>\n",
       "      <th>Location</th>\n",
       "    </tr>\n",
       "  </thead>\n",
       "  <tbody>\n",
       "    <tr>\n",
       "      <th>2</th>\n",
       "      <td>Alienware 15</td>\n",
       "      <td>12</td>\n",
       "      <td>2018-10-01</td>\n",
       "      <td>Andhra Pradesh</td>\n",
       "    </tr>\n",
       "    <tr>\n",
       "      <th>7</th>\n",
       "      <td>Alienware 17</td>\n",
       "      <td>11</td>\n",
       "      <td>2018-10-15</td>\n",
       "      <td>Maharshtra</td>\n",
       "    </tr>\n",
       "    <tr>\n",
       "      <th>15</th>\n",
       "      <td>Alienware 17</td>\n",
       "      <td>14</td>\n",
       "      <td>2018-07-11</td>\n",
       "      <td>Gujarat</td>\n",
       "    </tr>\n",
       "    <tr>\n",
       "      <th>18</th>\n",
       "      <td>Alienware 17</td>\n",
       "      <td>14</td>\n",
       "      <td>2018-10-01</td>\n",
       "      <td>Andhra Pradesh</td>\n",
       "    </tr>\n",
       "    <tr>\n",
       "      <th>22</th>\n",
       "      <td>Inspiron 3168</td>\n",
       "      <td>11</td>\n",
       "      <td>2018-10-12</td>\n",
       "      <td>Tamil Nadu</td>\n",
       "    </tr>\n",
       "  </tbody>\n",
       "</table>\n",
       "</div>"
      ],
      "text/plain": [
       "          Product  Quantity Stock_in_date        Location\n",
       "2    Alienware 15        12    2018-10-01  Andhra Pradesh\n",
       "7    Alienware 17        11    2018-10-15      Maharshtra\n",
       "15   Alienware 17        14    2018-07-11         Gujarat\n",
       "18   Alienware 17        14    2018-10-01  Andhra Pradesh\n",
       "22  Inspiron 3168        11    2018-10-12      Tamil Nadu"
      ]
     },
     "execution_count": 37,
     "metadata": {},
     "output_type": "execute_result"
    }
   ],
   "source": [
    "prediction=pd.DataFrame(product,columns=['Product'])\n",
    "prediction['Quantity']=quantity\n",
    "prediction['Stock_in_date']=stock_in_date\n",
    "prediction['Location']=le.inverse_transform(Y_pred)\n",
    "prediction.head()"
   ]
  },
  {
   "cell_type": "code",
   "execution_count": 38,
   "metadata": {},
   "outputs": [],
   "source": [
    "prediction.to_csv('Result.csv')"
   ]
  },
  {
   "cell_type": "code",
   "execution_count": null,
   "metadata": {},
   "outputs": [],
   "source": []
  }
 ],
 "metadata": {
  "kernelspec": {
   "display_name": "Python 3",
   "language": "python",
   "name": "python3"
  },
  "language_info": {
   "codemirror_mode": {
    "name": "ipython",
    "version": 3
   },
   "file_extension": ".py",
   "mimetype": "text/x-python",
   "name": "python",
   "nbconvert_exporter": "python",
   "pygments_lexer": "ipython3",
   "version": "3.6.5"
  }
 },
 "nbformat": 4,
 "nbformat_minor": 2
}
